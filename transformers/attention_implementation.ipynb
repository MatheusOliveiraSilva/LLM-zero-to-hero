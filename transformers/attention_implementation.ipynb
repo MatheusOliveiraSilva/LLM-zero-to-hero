{
 "cells": [
  {
   "cell_type": "markdown",
   "source": [
    "### 4. Detailed Explanation of Self-Attention\n",
    "\n",
    "**The Idea**:  \n",
    "In self-attention, every token in the input sequence looks at every other token and decides how much \"attention\" to pay to each one. This is done by computing a weighted sum of all the value vectors, where the weights come from how similar each query token is to each key token.\n",
    "\n",
    "**Core Components**:  \n",
    "- **Input Representation**: Suppose we have a sequence of tokens, each represented by a vector embedding. Let’s say we have `N` tokens, each embedding dimension is `d_model`.\n",
    "- **Linear Projections**: For self-attention, we start with an input matrix `X` of shape `(N, d_model)`, where each row corresponds to an embedding of a token. From `X`, we create three new matrices:\n",
    "  1. **Queries (Q)**: `Q = XW_Q`\n",
    "  2. **Keys (K)**: `K = XW_K`\n",
    "  3. **Values (V)**: `V = XW_V`\n",
    "  \n",
    "  Here, `W_Q`, `W_K`, and `W_V` are parameter matrices of shape `(d_model, d_k)`, `(d_model, d_k)`, `(d_model, d_v)` respectively, often with `d_k = d_v = d_model/num_heads` if you’re using multi-head attention. For simplicity, assume `d_k = d_v = d_model`.\n",
    "\n",
    "- **Similarity Scores**: To determine how much each token should attend to every other token, we compute a similarity (or compatibility) score between queries and keys.  \n",
    "  For each query `q_i` (a row in Q) and each key `k_j` (a row in K), we calculate the score:  \n",
    "  \\[\n",
    "  \\text{score}(q_i, k_j) = q_i \\cdot k_j^T\n",
    "  \\]\n",
    "\n",
    "  If Q is `(N, d_k)` and K is `(N, d_k)`, then `QK^T` is `(N, N)`, giving you a matrix of scores for every query-key pair.\n",
    "\n",
    "- **Scaling**: These raw scores are divided by \\(\\sqrt{d_k}\\) to prevent the scores from getting too large as `d_k` grows. This helps stabilize training.\n",
    "  \n",
    "  So we get:\n",
    "  \\[\n",
    "  \\text{scaled\\_scores} = \\frac{QK^T}{\\sqrt{d_k}}\n",
    "  \\]\n",
    "\n",
    "- **Softmax**: We apply a softmax function to these scaled scores across the key dimension. This converts the scores into a probability distribution for each query token over all key tokens:\n",
    "  \\[\n",
    "  \\text{attention\\_weights} = \\text{softmax}(\\text{scaled\\_scores}, \\text{axis}=\\text{keys})\n",
    "  \\]\n",
    "\n",
    "  After this step, each row in `attention_weights` corresponds to how much a particular query token focuses on each token in the input sequence.\n",
    "\n",
    "- **Weighted Sum of Values**: Finally, we use these attention weights to produce a weighted sum of the value vectors:\n",
    "  \\[\n",
    "  \\text{attention\\_output} = \\text{attention\\_weights} \\times V\n",
    "  \\]\n",
    "\n",
    "  This yields an `(N, d_v)` matrix, where each row is a contextualized representation of the corresponding token.\n",
    "\n",
    "**In short**:  \n",
    "1. Compute Q, K, V from input X.  \n",
    "2. Calculate raw scores = QK^T.  \n",
    "3. Scale by \\(\\sqrt{d_k}\\).  \n",
    "4. Apply softmax to get attention weights.  \n",
    "5. Multiply attention weights by V to get the final output."
   ],
   "metadata": {
    "collapsed": false
   },
   "id": "4bca0f7b74eb8bfb"
  },
  {
   "cell_type": "code",
   "outputs": [
    {
     "data": {
      "text/plain": "<Figure size 640x480 with 2 Axes>",
      "image/png": "[encoded data removed]"
     },
     "metadata": {},
     "output_type": "display_data"
    }
   ],
   "source": [
    "import numpy as np\n",
    "import matplotlib.pyplot as plt\n",
    "\n",
    "# 1. Our sentence and tokens\n",
    "tokens = [\"The\", \"cat\", \"sat\", \"on\", \"the\", \"mat\"]\n",
    "N = len(tokens)        # Number of tokens\n",
    "d_model = 8            # Embedding size\n",
    "d_k = d_model          # For simplicity, let d_k = d_model\n",
    "d_v = d_model\n",
    "\n",
    "# 2. Create a random embedding for each token (In practice, use a real embedding model)\n",
    "np.random.seed(42)  # For reproducibility\n",
    "X = np.random.rand(N, d_model)\n",
    "\n",
    "# 3. Create random weight matrices W_Q, W_K, W_V\n",
    "W_Q = np.random.randn(d_model, d_k)\n",
    "W_K = np.random.randn(d_model, d_k)\n",
    "W_V = np.random.randn(d_model, d_v)\n",
    "\n",
    "# Compute Q, K, V\n",
    "Q = X.dot(W_Q)  # Shape (N, d_k)\n",
    "K = X.dot(W_K)  # Shape (N, d_k)\n",
    "V = X.dot(W_V)  # Shape (N, d_v)\n",
    "\n",
    "# 4. Compute the attention scores: QK^T\n",
    "scores = Q.dot(K.T)  # (N, N)\n",
    "\n",
    "# Scale by sqrt(d_k)\n",
    "scores = scores / np.sqrt(d_k)\n",
    "\n",
    "# 5. Softmax function\n",
    "def softmax(x, axis=-1):\n",
    "    x_exp = np.exp(x - np.max(x, axis=axis, keepdims=True))\n",
    "    return x_exp / np.sum(x_exp, axis=axis, keepdims=True)\n",
    "\n",
    "# Compute attention weights\n",
    "attention_weights = softmax(scores, axis=1)  # Each row sums to 1\n",
    "\n",
    "# 6. Compute final attention output\n",
    "attention_output = attention_weights.dot(V)\n",
    "\n",
    "# 7. Visualize the attention weights\n",
    "# Rows represent query tokens, columns represent keys\n",
    "fig, ax = plt.subplots()\n",
    "im = ax.imshow(attention_weights, cmap='viridis')\n",
    "\n",
    "# Set tick labels to tokens\n",
    "ax.set_xticks(np.arange(N))\n",
    "ax.set_yticks(np.arange(N))\n",
    "ax.set_xticklabels(tokens)\n",
    "ax.set_yticklabels(tokens)\n",
    "\n",
    "# Rotate the tick labels and set their alignment.\n",
    "plt.setp(ax.get_xticklabels(), rotation=45, ha=\"right\",\n",
    "         rotation_mode=\"anchor\")\n",
    "\n",
    "ax.set_title(\"Attention Weights Heatmap\")\n",
    "fig.colorbar(im, ax=ax)\n",
    "plt.show()"
   ],
   "metadata": {
    "collapsed": false,
    "ExecuteTime": {
     "end_time": "2024-12-17T21:15:16.032444Z",
     "start_time": "2024-12-17T21:15:15.863549Z"
    }
   },
   "id": "d8a8f75cac107c91",
   "execution_count": 17
  },
  {
   "cell_type": "code",
   "outputs": [],
   "source": [],
   "metadata": {
    "collapsed": false
   },
   "id": "d8f61fd9095200f9"
  }
 ],
 "metadata": {
  "kernelspec": {
   "display_name": "Python 3",
   "language": "python",
   "name": "python3"
  },
  "language_info": {
   "codemirror_mode": {
    "name": "ipython",
    "version": 2
   },
   "file_extension": ".py",
   "mimetype": "text/x-python",
   "name": "python",
   "nbconvert_exporter": "python",
   "pygments_lexer": "ipython2",
   "version": "2.7.6"
  }
 },
 "nbformat": 4,
 "nbformat_minor": 5
}
